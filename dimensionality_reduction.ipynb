{
 "cells": [
  {
   "cell_type": "markdown",
   "metadata": {},
   "source": [
    "# Explore Dimensionality Reduction Approaches\n",
    "1. PCA on numerical features\n",
    "2. MCA on categorical features\n",
    "3. FAMD on mixed data dataframe"
   ]
  },
  {
   "cell_type": "code",
   "execution_count": 1,
   "metadata": {},
   "outputs": [],
   "source": [
    "# import libraries\n",
    "\n",
    "import os\n",
    "import pandas as pd\n",
    "import numpy as np\n",
    "import seaborn as sns\n",
    "%matplotlib inline\n",
    "import matplotlib\n",
    "from matplotlib import pyplot as plt\n",
    "from scipy import stats\n",
    "import math"
   ]
  },
  {
   "cell_type": "markdown",
   "metadata": {},
   "source": [
    "## Import functions from scripts:\n",
    "* reading clean merged data\n",
    "* factor analysis of mixed data"
   ]
  },
  {
   "cell_type": "code",
   "execution_count": 2,
   "metadata": {},
   "outputs": [],
   "source": [
    "# make sure to navigate to project folder\n",
    "os.chdir('/Users/trevor.mattos/Desktop/nycdsa/finalproject/cleancode')\n",
    "# import functions from scripts\n",
    "from data_compiler import *\n",
    "from factor_analysis_mixed_data import *"
   ]
  },
  {
   "cell_type": "markdown",
   "metadata": {},
   "source": [
    "#### ***df=mycompiler()*** brings in the full dataframe, clean and merged"
   ]
  },
  {
   "cell_type": "code",
   "execution_count": 4,
   "metadata": {},
   "outputs": [],
   "source": [
    "# use data compiler to read in clean merged dataframe\n",
    "#df=mycompiler()"
   ]
  },
  {
   "cell_type": "markdown",
   "metadata": {},
   "source": [
    "#### To save time, read the clean merged dataset as a csv"
   ]
  },
  {
   "cell_type": "code",
   "execution_count": 6,
   "metadata": {},
   "outputs": [],
   "source": [
    "# read data from file\n",
    "df=pd.read_csv('./data/compiled.csv')"
   ]
  },
  {
   "cell_type": "code",
   "execution_count": 7,
   "metadata": {},
   "outputs": [],
   "source": [
    "# recast categorical columns as object \n",
    "    # to ensure that reading the CSV doesn't affect our analysis\n",
    "for i in ['special_features',\n",
    "          'transaction_type',\n",
    "          'listing_status',\n",
    "          'listing_special_features',\n",
    "          'zip']:\n",
    "    df[i]=df[i].astype(object)"
   ]
  },
  {
   "cell_type": "markdown",
   "metadata": {},
   "source": [
    "#### Drop price (target) for dimensionality reduction and clustering"
   ]
  },
  {
   "cell_type": "code",
   "execution_count": 8,
   "metadata": {},
   "outputs": [],
   "source": [
    "# drop price (our target for supervised learning later on)\n",
    "df=df.drop(['price'], axis=1)"
   ]
  },
  {
   "cell_type": "markdown",
   "metadata": {},
   "source": [
    "## PCA with numerical features\n",
    "#### Note that we exclude lat and long"
   ]
  },
  {
   "cell_type": "code",
   "execution_count": 9,
   "metadata": {},
   "outputs": [],
   "source": [
    "# identify list of numerical features\n",
    "numers=[]\n",
    "for col in df.columns[2:]:\n",
    "    if df[col].dtype==('float64') or df[col].dtype==('int64'):\n",
    "        numers.append(col)"
   ]
  },
  {
   "cell_type": "code",
   "execution_count": 12,
   "metadata": {},
   "outputs": [],
   "source": [
    "from sklearn.decomposition import PCA\n",
    "from sklearn.preprocessing import StandardScaler\n",
    "\n",
    "pca = PCA(n_components=3)\n"
   ]
  },
  {
   "cell_type": "code",
   "execution_count": 13,
   "metadata": {},
   "outputs": [],
   "source": [
    "# scale numeric data for PCA\n",
    "scaler=StandardScaler()\n",
    "scaler.fit(df[numers])\n",
    "scaled_df=scaler.transform(df[numers])"
   ]
  },
  {
   "cell_type": "code",
   "execution_count": 14,
   "metadata": {},
   "outputs": [
    {
     "data": {
      "text/plain": [
       "PCA(n_components=3)"
      ]
     },
     "execution_count": 14,
     "metadata": {},
     "output_type": "execute_result"
    }
   ],
   "source": [
    "# fit PCA to data\n",
    "pca.fit(scaled_df)"
   ]
  },
  {
   "cell_type": "code",
   "execution_count": 15,
   "metadata": {},
   "outputs": [
    {
     "data": {
      "text/plain": [
       "[0.389790992449892, 0.10758050708470814, 0.08565034610605664]"
      ]
     },
     "execution_count": 15,
     "metadata": {},
     "output_type": "execute_result"
    }
   ],
   "source": [
    "# examine the share of variance attributed to the principal components\n",
    "list(pca.explained_variance_ratio_)"
   ]
  },
  {
   "cell_type": "code",
   "execution_count": 19,
   "metadata": {},
   "outputs": [],
   "source": [
    "c_list=[]\n",
    "for i in range(0,(pca.components_.shape[0])):\n",
    "    c_list.append('pc%d' %(i+1))\n",
    "    "
   ]
  },
  {
   "cell_type": "code",
   "execution_count": 35,
   "metadata": {},
   "outputs": [
    {
     "data": {
      "text/html": [
       "<div>\n",
       "<style scoped>\n",
       "    .dataframe tbody tr th:only-of-type {\n",
       "        vertical-align: middle;\n",
       "    }\n",
       "\n",
       "    .dataframe tbody tr th {\n",
       "        vertical-align: top;\n",
       "    }\n",
       "\n",
       "    .dataframe thead th {\n",
       "        text-align: right;\n",
       "    }\n",
       "</style>\n",
       "<table border=\"1\" class=\"dataframe\">\n",
       "  <thead>\n",
       "    <tr style=\"text-align: right;\">\n",
       "      <th></th>\n",
       "      <th>pc1</th>\n",
       "      <th>pc2</th>\n",
       "      <th>pc3</th>\n",
       "    </tr>\n",
       "  </thead>\n",
       "  <tbody>\n",
       "    <tr>\n",
       "      <th>beds</th>\n",
       "      <td>-0.080432</td>\n",
       "      <td>0.437268</td>\n",
       "      <td>0.260569</td>\n",
       "    </tr>\n",
       "    <tr>\n",
       "      <th>baths_full</th>\n",
       "      <td>-0.095839</td>\n",
       "      <td>0.441846</td>\n",
       "      <td>0.322004</td>\n",
       "    </tr>\n",
       "    <tr>\n",
       "      <th>square_footage</th>\n",
       "      <td>-0.092703</td>\n",
       "      <td>0.407962</td>\n",
       "      <td>0.305637</td>\n",
       "    </tr>\n",
       "    <tr>\n",
       "      <th>year_built</th>\n",
       "      <td>-0.146979</td>\n",
       "      <td>0.133306</td>\n",
       "      <td>0.282036</td>\n",
       "    </tr>\n",
       "    <tr>\n",
       "      <th>grocer_dist</th>\n",
       "      <td>-0.006645</td>\n",
       "      <td>-0.336494</td>\n",
       "      <td>0.269408</td>\n",
       "    </tr>\n",
       "  </tbody>\n",
       "</table>\n",
       "</div>"
      ],
      "text/plain": [
       "                     pc1       pc2       pc3\n",
       "beds           -0.080432  0.437268  0.260569\n",
       "baths_full     -0.095839  0.441846  0.322004\n",
       "square_footage -0.092703  0.407962  0.305637\n",
       "year_built     -0.146979  0.133306  0.282036\n",
       "grocer_dist    -0.006645 -0.336494  0.269408"
      ]
     },
     "execution_count": 35,
     "metadata": {},
     "output_type": "execute_result"
    }
   ],
   "source": [
    "# examine the loading vectors to assess correlations between components and features\n",
    "loadings = pd.DataFrame(\n",
    "    pca.components_.T, columns=c_list, index=df[numers].columns)\n",
    "\n",
    "# display loading vectors\n",
    "loadings.head()\n"
   ]
  },
  {
   "cell_type": "markdown",
   "metadata": {},
   "source": [
    "## Multiple Correspondence Analysis (categorical features)"
   ]
  },
  {
   "cell_type": "markdown",
   "metadata": {},
   "source": [
    "#### First try with all categorical data"
   ]
  },
  {
   "cell_type": "code",
   "execution_count": 21,
   "metadata": {},
   "outputs": [],
   "source": [
    "# save a list of categorical cols \n",
    "cats=[]\n",
    "for col in df.columns:\n",
    "    if df[col].dtype=='object':\n",
    "        cats.append(col)"
   ]
  },
  {
   "cell_type": "code",
   "execution_count": 22,
   "metadata": {},
   "outputs": [],
   "source": [
    "# run MCA\n",
    "from prince import MCA\n",
    "mca=MCA(n_components=10, n_iter=3, random_state=101)"
   ]
  },
  {
   "cell_type": "code",
   "execution_count": 23,
   "metadata": {},
   "outputs": [
    {
     "name": "stderr",
     "output_type": "stream",
     "text": [
      "/opt/anaconda3/lib/python3.8/site-packages/pandas/core/algorithms.py:798: FutureWarning: In a future version, the Index constructor will not infer numeric dtypes when passed object-dtype sequences (matching Series behavior)\n",
      "  uniques = Index(uniques)\n"
     ]
    },
    {
     "data": {
      "text/plain": [
       "MCA(n_components=10, n_iter=3, random_state=101)"
      ]
     },
     "execution_count": 23,
     "metadata": {},
     "output_type": "execute_result"
    }
   ],
   "source": [
    "mca.fit(df[cats])"
   ]
  },
  {
   "cell_type": "code",
   "execution_count": 24,
   "metadata": {},
   "outputs": [
    {
     "data": {
      "text/plain": [
       "[0.00042349226787438584,\n",
       " 0.0004189996973328196,\n",
       " 0.00041752234555208627,\n",
       " 0.00041676307610658073,\n",
       " 0.0004160226267005604,\n",
       " 0.0004153091777298361,\n",
       " 0.00041302333947006414,\n",
       " 0.0004129749408885789,\n",
       " 0.0004115016680274987,\n",
       " 0.0004100676319091386]"
      ]
     },
     "execution_count": 24,
     "metadata": {},
     "output_type": "execute_result"
    }
   ],
   "source": [
    "mca.explained_inertia_"
   ]
  },
  {
   "cell_type": "markdown",
   "metadata": {},
   "source": [
    "## Attempt MCA on subset of categorical features (non-geographic categorical features, with a meaningful distribution of values)"
   ]
  },
  {
   "cell_type": "code",
   "execution_count": 25,
   "metadata": {},
   "outputs": [],
   "source": [
    "newcats=[\n",
    " 'special_features',\n",
    " 'listing_status',\n",
    " 'listing_special_features']"
   ]
  },
  {
   "cell_type": "code",
   "execution_count": 26,
   "metadata": {},
   "outputs": [],
   "source": [
    "# run MCA\n",
    "from prince import MCA\n",
    "mca=MCA(n_components=3, n_iter=3, random_state=101)"
   ]
  },
  {
   "cell_type": "code",
   "execution_count": 27,
   "metadata": {},
   "outputs": [
    {
     "name": "stderr",
     "output_type": "stream",
     "text": [
      "/opt/anaconda3/lib/python3.8/site-packages/pandas/core/algorithms.py:798: FutureWarning: In a future version, the Index constructor will not infer numeric dtypes when passed object-dtype sequences (matching Series behavior)\n",
      "  uniques = Index(uniques)\n"
     ]
    },
    {
     "data": {
      "text/plain": [
       "MCA(n_components=3, n_iter=3, random_state=101)"
      ]
     },
     "execution_count": 27,
     "metadata": {},
     "output_type": "execute_result"
    }
   ],
   "source": [
    "mca.fit(df[newcats])"
   ]
  },
  {
   "cell_type": "code",
   "execution_count": 28,
   "metadata": {},
   "outputs": [
    {
     "data": {
      "text/plain": [
       "[0.1539220441317993, 0.1538461538461586, 0.15384615384615427]"
      ]
     },
     "execution_count": 28,
     "metadata": {},
     "output_type": "execute_result"
    }
   ],
   "source": [
    "mca.explained_inertia_"
   ]
  },
  {
   "cell_type": "markdown",
   "metadata": {},
   "source": [
    "## Factor Analysis of Mixed Data with full feature set"
   ]
  },
  {
   "cell_type": "markdown",
   "metadata": {},
   "source": [
    "#### create subset of numerical columns with only one crime rate"
   ]
  },
  {
   "cell_type": "code",
   "execution_count": 29,
   "metadata": {},
   "outputs": [],
   "source": [
    "newnumers=list(df[numers].iloc[:,:9].columns)"
   ]
  },
  {
   "cell_type": "code",
   "execution_count": 30,
   "metadata": {},
   "outputs": [],
   "source": [
    "# identify all columns for FAMD\n",
    "famdlist=newnumers+newcats"
   ]
  },
  {
   "cell_type": "code",
   "execution_count": 31,
   "metadata": {},
   "outputs": [
    {
     "name": "stderr",
     "output_type": "stream",
     "text": [
      "/opt/anaconda3/lib/python3.8/site-packages/pandas/core/algorithms.py:798: FutureWarning: In a future version, the Index constructor will not infer numeric dtypes when passed object-dtype sequences (matching Series behavior)\n",
      "  uniques = Index(uniques)\n"
     ]
    }
   ],
   "source": [
    "# obtain FAMD components, variance explained, processed dataframe\n",
    "famd_components,famd_variance_explained,processed_dataframe=FAMD_(df[famdlist], n_components=12)\n",
    "    # note that this relies on the FAMD algorithm specified in \n",
    "    # factor_analysis_of_mixed_data.py script"
   ]
  },
  {
   "cell_type": "code",
   "execution_count": 32,
   "metadata": {
    "scrolled": true
   },
   "outputs": [
    {
     "data": {
      "text/html": [
       "<div>\n",
       "<style scoped>\n",
       "    .dataframe tbody tr th:only-of-type {\n",
       "        vertical-align: middle;\n",
       "    }\n",
       "\n",
       "    .dataframe tbody tr th {\n",
       "        vertical-align: top;\n",
       "    }\n",
       "\n",
       "    .dataframe thead th {\n",
       "        text-align: right;\n",
       "    }\n",
       "</style>\n",
       "<table border=\"1\" class=\"dataframe\">\n",
       "  <thead>\n",
       "    <tr style=\"text-align: right;\">\n",
       "      <th></th>\n",
       "      <th>beds</th>\n",
       "      <th>baths_full</th>\n",
       "      <th>square_footage</th>\n",
       "      <th>year_built</th>\n",
       "      <th>grocer_dist</th>\n",
       "      <th>bank_dist</th>\n",
       "      <th>school_dist</th>\n",
       "      <th>walkscore</th>\n",
       "      <th>violent_crime_total_rate</th>\n",
       "      <th>special_features_1</th>\n",
       "      <th>...</th>\n",
       "      <th>special_features_20</th>\n",
       "      <th>special_features_512</th>\n",
       "      <th>special_features_514</th>\n",
       "      <th>listing_status_1</th>\n",
       "      <th>listing_special_features_1</th>\n",
       "      <th>listing_special_features_2</th>\n",
       "      <th>listing_special_features_3</th>\n",
       "      <th>listing_special_features_20</th>\n",
       "      <th>listing_special_features_512</th>\n",
       "      <th>listing_special_features_514</th>\n",
       "    </tr>\n",
       "  </thead>\n",
       "  <tbody>\n",
       "    <tr>\n",
       "      <th>0</th>\n",
       "      <td>-0.668369</td>\n",
       "      <td>-0.496465</td>\n",
       "      <td>-0.510508</td>\n",
       "      <td>1.149556</td>\n",
       "      <td>1.725367</td>\n",
       "      <td>2.203153</td>\n",
       "      <td>0.362622</td>\n",
       "      <td>-0.625285</td>\n",
       "      <td>0.893674</td>\n",
       "      <td>-0.178712</td>\n",
       "      <td>...</td>\n",
       "      <td>-0.009329</td>\n",
       "      <td>-0.084988</td>\n",
       "      <td>-0.03613</td>\n",
       "      <td>0.018444</td>\n",
       "      <td>-0.178712</td>\n",
       "      <td>1.804267</td>\n",
       "      <td>-0.064631</td>\n",
       "      <td>-0.009329</td>\n",
       "      <td>-0.084988</td>\n",
       "      <td>-0.03613</td>\n",
       "    </tr>\n",
       "    <tr>\n",
       "      <th>1</th>\n",
       "      <td>-0.668369</td>\n",
       "      <td>-0.496465</td>\n",
       "      <td>-0.615014</td>\n",
       "      <td>-1.090088</td>\n",
       "      <td>2.530822</td>\n",
       "      <td>-0.222516</td>\n",
       "      <td>-0.213489</td>\n",
       "      <td>0.666836</td>\n",
       "      <td>0.580385</td>\n",
       "      <td>-0.178712</td>\n",
       "      <td>...</td>\n",
       "      <td>-0.009329</td>\n",
       "      <td>-0.084988</td>\n",
       "      <td>-0.03613</td>\n",
       "      <td>0.018444</td>\n",
       "      <td>-0.178712</td>\n",
       "      <td>-0.444657</td>\n",
       "      <td>-0.064631</td>\n",
       "      <td>-0.009329</td>\n",
       "      <td>-0.084988</td>\n",
       "      <td>-0.03613</td>\n",
       "    </tr>\n",
       "    <tr>\n",
       "      <th>2</th>\n",
       "      <td>-0.668369</td>\n",
       "      <td>-0.496465</td>\n",
       "      <td>-0.710272</td>\n",
       "      <td>-0.883352</td>\n",
       "      <td>2.572102</td>\n",
       "      <td>-0.077376</td>\n",
       "      <td>-0.424137</td>\n",
       "      <td>0.666836</td>\n",
       "      <td>0.580385</td>\n",
       "      <td>-0.178712</td>\n",
       "      <td>...</td>\n",
       "      <td>-0.009329</td>\n",
       "      <td>-0.084988</td>\n",
       "      <td>-0.03613</td>\n",
       "      <td>0.018444</td>\n",
       "      <td>-0.178712</td>\n",
       "      <td>-0.444657</td>\n",
       "      <td>-0.064631</td>\n",
       "      <td>-0.009329</td>\n",
       "      <td>-0.084988</td>\n",
       "      <td>-0.03613</td>\n",
       "    </tr>\n",
       "    <tr>\n",
       "      <th>3</th>\n",
       "      <td>0.327338</td>\n",
       "      <td>0.107501</td>\n",
       "      <td>-0.311669</td>\n",
       "      <td>-1.262369</td>\n",
       "      <td>2.580749</td>\n",
       "      <td>-0.791301</td>\n",
       "      <td>-0.390427</td>\n",
       "      <td>0.666836</td>\n",
       "      <td>0.580385</td>\n",
       "      <td>-0.178712</td>\n",
       "      <td>...</td>\n",
       "      <td>-0.009329</td>\n",
       "      <td>-0.084988</td>\n",
       "      <td>-0.03613</td>\n",
       "      <td>0.018444</td>\n",
       "      <td>-0.178712</td>\n",
       "      <td>-0.444657</td>\n",
       "      <td>-0.064631</td>\n",
       "      <td>-0.009329</td>\n",
       "      <td>-0.084988</td>\n",
       "      <td>-0.03613</td>\n",
       "    </tr>\n",
       "    <tr>\n",
       "      <th>4</th>\n",
       "      <td>0.327338</td>\n",
       "      <td>0.541624</td>\n",
       "      <td>0.683451</td>\n",
       "      <td>-0.021950</td>\n",
       "      <td>2.531340</td>\n",
       "      <td>-0.588489</td>\n",
       "      <td>-0.075493</td>\n",
       "      <td>0.666836</td>\n",
       "      <td>0.580385</td>\n",
       "      <td>-0.178712</td>\n",
       "      <td>...</td>\n",
       "      <td>-0.009329</td>\n",
       "      <td>11.681310</td>\n",
       "      <td>-0.03613</td>\n",
       "      <td>0.018444</td>\n",
       "      <td>-0.178712</td>\n",
       "      <td>-0.444657</td>\n",
       "      <td>-0.064631</td>\n",
       "      <td>-0.009329</td>\n",
       "      <td>11.681310</td>\n",
       "      <td>-0.03613</td>\n",
       "    </tr>\n",
       "  </tbody>\n",
       "</table>\n",
       "<p>5 rows × 22 columns</p>\n",
       "</div>"
      ],
      "text/plain": [
       "       beds  baths_full  square_footage  year_built  grocer_dist  bank_dist  \\\n",
       "0 -0.668369   -0.496465       -0.510508    1.149556     1.725367   2.203153   \n",
       "1 -0.668369   -0.496465       -0.615014   -1.090088     2.530822  -0.222516   \n",
       "2 -0.668369   -0.496465       -0.710272   -0.883352     2.572102  -0.077376   \n",
       "3  0.327338    0.107501       -0.311669   -1.262369     2.580749  -0.791301   \n",
       "4  0.327338    0.541624        0.683451   -0.021950     2.531340  -0.588489   \n",
       "\n",
       "   school_dist  walkscore  violent_crime_total_rate  special_features_1  ...  \\\n",
       "0     0.362622  -0.625285                  0.893674           -0.178712  ...   \n",
       "1    -0.213489   0.666836                  0.580385           -0.178712  ...   \n",
       "2    -0.424137   0.666836                  0.580385           -0.178712  ...   \n",
       "3    -0.390427   0.666836                  0.580385           -0.178712  ...   \n",
       "4    -0.075493   0.666836                  0.580385           -0.178712  ...   \n",
       "\n",
       "   special_features_20  special_features_512  special_features_514  \\\n",
       "0            -0.009329             -0.084988              -0.03613   \n",
       "1            -0.009329             -0.084988              -0.03613   \n",
       "2            -0.009329             -0.084988              -0.03613   \n",
       "3            -0.009329             -0.084988              -0.03613   \n",
       "4            -0.009329             11.681310              -0.03613   \n",
       "\n",
       "   listing_status_1  listing_special_features_1  listing_special_features_2  \\\n",
       "0          0.018444                   -0.178712                    1.804267   \n",
       "1          0.018444                   -0.178712                   -0.444657   \n",
       "2          0.018444                   -0.178712                   -0.444657   \n",
       "3          0.018444                   -0.178712                   -0.444657   \n",
       "4          0.018444                   -0.178712                   -0.444657   \n",
       "\n",
       "   listing_special_features_3  listing_special_features_20  \\\n",
       "0                   -0.064631                    -0.009329   \n",
       "1                   -0.064631                    -0.009329   \n",
       "2                   -0.064631                    -0.009329   \n",
       "3                   -0.064631                    -0.009329   \n",
       "4                   -0.064631                    -0.009329   \n",
       "\n",
       "   listing_special_features_512  listing_special_features_514  \n",
       "0                     -0.084988                      -0.03613  \n",
       "1                     -0.084988                      -0.03613  \n",
       "2                     -0.084988                      -0.03613  \n",
       "3                     -0.084988                      -0.03613  \n",
       "4                     11.681310                      -0.03613  \n",
       "\n",
       "[5 rows x 22 columns]"
      ]
     },
     "execution_count": 32,
     "metadata": {},
     "output_type": "execute_result"
    }
   ],
   "source": [
    "processed_dataframe.head(5)"
   ]
  },
  {
   "cell_type": "code",
   "execution_count": 33,
   "metadata": {
    "scrolled": true
   },
   "outputs": [
    {
     "data": {
      "text/plain": [
       "array([[ 1.0974554 , -2.60640459, -0.94922635, ...,  0.59877746,\n",
       "        -0.34890884, -0.30210349],\n",
       "       [-1.78543842, -0.84618129,  0.12736023, ...,  1.99213333,\n",
       "         1.07024087, -0.08522108],\n",
       "       [-1.74033724, -0.87297357,  0.09650077, ...,  2.00087299,\n",
       "         1.07382994, -0.33230471],\n",
       "       ...,\n",
       "       [-0.81049378, -1.38974663, -0.01472136, ...,  0.03083026,\n",
       "         0.11521436, -0.37521974],\n",
       "       [-1.40605626, -0.69795204, -0.11733366, ...,  0.56914397,\n",
       "         0.41851429,  0.46298957],\n",
       "       [-2.67881749, -1.08948455,  0.10006522, ...,  0.35298805,\n",
       "         0.01869401,  1.46309122]])"
      ]
     },
     "execution_count": 33,
     "metadata": {},
     "output_type": "execute_result"
    }
   ],
   "source": [
    "# take a quick peak at the components\n",
    "famd_components"
   ]
  },
  {
   "cell_type": "code",
   "execution_count": 34,
   "metadata": {},
   "outputs": [
    {
     "data": {
      "text/plain": [
       "array([0.14955372, 0.11500777, 0.09863883, 0.09757036, 0.0974401 ,\n",
       "       0.09734954, 0.08849408, 0.0717146 , 0.05090371, 0.04105563,\n",
       "       0.02569437, 0.01909849])"
      ]
     },
     "execution_count": 34,
     "metadata": {},
     "output_type": "execute_result"
    }
   ],
   "source": [
    "# check to see how much overall variance is attributed to the components\n",
    "famd_variance_explained"
   ]
  }
 ],
 "metadata": {
  "kernelspec": {
   "display_name": "Python 3",
   "language": "python",
   "name": "python3"
  },
  "language_info": {
   "codemirror_mode": {
    "name": "ipython",
    "version": 3
   },
   "file_extension": ".py",
   "mimetype": "text/x-python",
   "name": "python",
   "nbconvert_exporter": "python",
   "pygments_lexer": "ipython3",
   "version": "3.8.3"
  }
 },
 "nbformat": 4,
 "nbformat_minor": 4
}
